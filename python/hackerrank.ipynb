{
 "cells": [
  {
   "cell_type": "markdown",
   "id": "0ea4b386-d6e8-4e1a-94fb-792a7ea59ee3",
   "metadata": {},
   "source": [
    "## [Maximum Element](https://www.hackerrank.com/challenges/maximum-element/problem?isFullScreen=false)\n"
   ]
  },
  {
   "cell_type": "code",
   "execution_count": 1,
   "id": "8c860a87-bbce-4076-b6fc-e7d5527b753b",
   "metadata": {},
   "outputs": [
    {
     "name": "stdout",
     "output_type": "stream",
     "text": [
      "26\n",
      "91\n"
     ]
    }
   ],
   "source": [
    "#!/bin/python3\n",
    "\n",
    "import math\n",
    "import os\n",
    "import random\n",
    "import re\n",
    "import sys\n",
    "\n",
    "def getMax(operations):\n",
    "    # Write your code here\n",
    "    stack = []\n",
    "    max_stack = [0]\n",
    "    res = []\n",
    "    for op in operations:\n",
    "        ops = op.split()\n",
    "        if int(ops[0]) == 1:\n",
    "            num = int(ops[1])\n",
    "            stack.append(num)\n",
    "            if max_stack[-1] > num:\n",
    "                max_stack.append(max_stack[-1])\n",
    "            else:\n",
    "                max_stack.append(num)\n",
    "        elif int(ops[0]) == 2:\n",
    "            stack.pop()\n",
    "            max_stack.pop()\n",
    "        else:\n",
    "            res.append(max_stack[-1])\n",
    "    return res\n",
    "\n",
    "if __name__ == '__main__':\n",
    "    n = 10  # int(input().strip())\n",
    "    ops = ['1 97', '2', '1 20', '2', '1 26', '1 20', '2', '3', '1 91', '3']\n",
    "    res = getMax(ops)\n",
    "    print('\\n'.join(map(str, res)))\n"
   ]
  },
  {
   "cell_type": "markdown",
   "id": "b3948168-123e-4bba-b02b-9eeb108e4f63",
   "metadata": {},
   "source": [
    "## [Balanced Brackets](https://www.hackerrank.com/challenges/balanced-brackets/problem?isFullScreen=false)\n"
   ]
  },
  {
   "cell_type": "code",
   "execution_count": 3,
   "id": "3620b33f-ec7d-4546-85ed-47c3ccd7cea1",
   "metadata": {},
   "outputs": [
    {
     "name": "stdout",
     "output_type": "stream",
     "text": [
      "YES\n",
      "NO\n",
      "YES\n"
     ]
    }
   ],
   "source": [
    "#!/bin/python3\n",
    "\n",
    "import math\n",
    "import os\n",
    "import random\n",
    "import re\n",
    "import sys\n",
    "\n",
    "def isBalanced(s):\n",
    "    # Write your code here\n",
    "    stack = []\n",
    "    bracket_map = {')': '(', '}': '{', ']': '['}\n",
    "    for bracket in s:\n",
    "        if bracket in bracket_map.values():\n",
    "            stack.append(bracket)\n",
    "        elif bracket in bracket_map:\n",
    "            if not stack or stack[-1] != bracket_map[bracket]:\n",
    "                return \"NO\"\n",
    "            stack.pop()\n",
    "    return \"YES\" if not stack else \"NO\" \n",
    "\n",
    "if __name__ == '__main__':\n",
    "    t = 3  #  int(input().strip())\n",
    "    strings = ['{[()]}', '{[(])}', '{{[[(())]]}}']\n",
    "    for s in strings:\n",
    "        result = isBalanced(s)\n",
    "        print(result)\n"
   ]
  },
  {
   "cell_type": "code",
   "execution_count": 4,
   "id": "94c51951-03e4-43a3-ac57-5893b800a4df",
   "metadata": {},
   "outputs": [
    {
     "data": {
      "text/plain": [
       "[5, 4, 3, 2]"
      ]
     },
     "execution_count": 4,
     "metadata": {},
     "output_type": "execute_result"
    }
   ],
   "source": [
    "list(range(5, 1, -1))\n"
   ]
  },
  {
   "cell_type": "markdown",
   "id": "0fe601a2-b9d7-4347-a3ff-29ebdb9a2b76",
   "metadata": {},
   "source": [
    "## [Print the Elements of a Linked List](https://www.hackerrank.com/challenges/print-the-elements-of-a-linked-list/problem?isFullScreen=false)\n"
   ]
  },
  {
   "cell_type": "code",
   "execution_count": 14,
   "id": "11184820-11cb-40a4-bb3a-002600ec3069",
   "metadata": {},
   "outputs": [
    {
     "name": "stdout",
     "output_type": "stream",
     "text": [
      "16\n",
      "13\n"
     ]
    }
   ],
   "source": [
    "#!/bin/python3\n",
    "\n",
    "import math\n",
    "import os\n",
    "import random\n",
    "import re\n",
    "import sys\n",
    "\n",
    "class SinglyLinkedListNode:\n",
    "    def __init__(self, node_data):\n",
    "        self.data = node_data\n",
    "        self.next = None\n",
    "\n",
    "class SinglyLinkedList:\n",
    "    def __init__(self):\n",
    "        self.head = None\n",
    "        self.tail = None\n",
    "\n",
    "    def insert_node(self, node_data):\n",
    "        node = SinglyLinkedListNode(node_data)\n",
    "\n",
    "        if not self.head:\n",
    "            self.head = node\n",
    "        else:\n",
    "            self.tail.next = node\n",
    "\n",
    "        self.tail = node\n",
    "\n",
    "def printLinkedList(head):\n",
    "    while head:\n",
    "        print(head.data)\n",
    "        head = head.next\n",
    "\n",
    "if __name__ == '__main__':\n",
    "    llist_count = 2\n",
    "    llist = SinglyLinkedList()\n",
    "    for llist_item in [16, 13]:\n",
    "        llist.insert_node(llist_item)\n",
    "    printLinkedList(llist.head)\n"
   ]
  },
  {
   "cell_type": "code",
   "execution_count": 16,
   "id": "75d367fc-89d5-42f1-89ea-362c7203f026",
   "metadata": {},
   "outputs": [
    {
     "name": "stdout",
     "output_type": "stream",
     "text": [
      "16\n",
      "13\n",
      "16 -> 13\n",
      "SinglyLinkedListNode(16) -> SinglyLinkedListNode(13)\n"
     ]
    }
   ],
   "source": [
    "class SinglyLinkedListNode:\n",
    "    def __init__(self, node_data):\n",
    "        self.data = node_data\n",
    "        self.next = None\n",
    "\n",
    "    def __repr__(self):\n",
    "        return f\"SinglyLinkedListNode({self.data})\"\n",
    "\n",
    "    def __str__(self):\n",
    "        return str(self.data)\n",
    "\n",
    "class SinglyLinkedList:\n",
    "    def __init__(self):\n",
    "        self.head = None\n",
    "        self.tail = None\n",
    "\n",
    "    def insert_node(self, node_data):\n",
    "        node = SinglyLinkedListNode(node_data)\n",
    "\n",
    "        if not self.head:\n",
    "            self.head = node\n",
    "        else:\n",
    "            self.tail.next = node\n",
    "\n",
    "        self.tail = node\n",
    "\n",
    "    def __repr__(self):\n",
    "        \"\"\"Returns a string representation of the linked list for debugging.\"\"\"\n",
    "        nodes = []\n",
    "        current = self.head\n",
    "        while current:\n",
    "            nodes.append(repr(current))  # Calls __repr__ of SinglyLinkedListNode\n",
    "            current = current.next\n",
    "        return \" -> \".join(nodes)\n",
    "\n",
    "    def __str__(self):\n",
    "        \"\"\"Returns a user-friendly string representation of the linked list.\"\"\"\n",
    "        nodes = []\n",
    "        current = self.head\n",
    "        while current:\n",
    "            nodes.append(str(current.data))  # Calls __str__ of SinglyLinkedListNode\n",
    "            current = current.next\n",
    "        return \" -> \".join(nodes)\n",
    "\n",
    "def printLinkedList(head):\n",
    "    while head:\n",
    "        print(head)  # Calls __str__ of SinglyLinkedListNode\n",
    "        head = head.next\n",
    "\n",
    "if __name__ == '__main__':\n",
    "    llist = SinglyLinkedList()\n",
    "    for llist_item in [16, 13]:\n",
    "        llist.insert_node(llist_item)\n",
    "\n",
    "    printLinkedList(llist.head)\n",
    "    print(llist)       # Calls __str__\n",
    "    print(repr(llist)) # Calls __repr__\n"
   ]
  },
  {
   "cell_type": "markdown",
   "id": "4f1fb1a2-651e-419d-bbae-287f8cbb857d",
   "metadata": {},
   "source": [
    "## [Insert a node at the head of a linked list](https://www.hackerrank.com/challenges/insert-a-node-at-the-head-of-a-linked-list/problem?isFullScreen=false)\n"
   ]
  },
  {
   "cell_type": "code",
   "execution_count": 20,
   "id": "a7947d36-4faa-4856-bc6e-0accfc2cf1d9",
   "metadata": {},
   "outputs": [
    {
     "name": "stdout",
     "output_type": "stream",
     "text": [
      "321\n",
      "975\n",
      "392\n",
      "484\n",
      "383\n"
     ]
    }
   ],
   "source": [
    "#!/bin/python3\n",
    "\n",
    "import math\n",
    "import os\n",
    "import random\n",
    "import re\n",
    "import sys\n",
    "\n",
    "class SinglyLinkedListNode:\n",
    "    def __init__(self, node_data):\n",
    "        self.data = node_data\n",
    "        self.next = None\n",
    "\n",
    "class SinglyLinkedList:\n",
    "    def __init__(self):\n",
    "        self.head = None\n",
    "        self.tail = None\n",
    "\n",
    "def print_singly_linked_list(node):\n",
    "    while node:\n",
    "        print(str(node.data))\n",
    "        node = node.next\n",
    "\n",
    "def insertNodeAtHead(llist, data):\n",
    "    # Write your code here\n",
    "    node = SinglyLinkedListNode(data)\n",
    "    node.next = llist\n",
    "    return node\n",
    "\n",
    "if __name__ == '__main__':\n",
    "    llist_count = 5\n",
    "    llist = SinglyLinkedList()\n",
    "\n",
    "    for llist_item in [383, 484, 392, 975, 321]:\n",
    "        llist_head = insertNodeAtHead(llist.head, llist_item)\n",
    "        llist.head = llist_head\n",
    "    \n",
    "    print_singly_linked_list(llist.head)\n"
   ]
  },
  {
   "cell_type": "markdown",
   "id": "97529b04-77c9-447d-ba0e-8ca6b9b10cd8",
   "metadata": {},
   "source": [
    "## [Insert a Node at the Tail of a Linked List](https://www.hackerrank.com/challenges/insert-a-node-at-the-tail-of-a-linked-list/problem?isFullScreen=false)\n"
   ]
  },
  {
   "cell_type": "code",
   "execution_count": 22,
   "id": "4d244fda-d5e1-4ad1-af11-9d6d06e9f5ea",
   "metadata": {},
   "outputs": [
    {
     "name": "stdout",
     "output_type": "stream",
     "text": [
      "383\n",
      "484\n",
      "392\n",
      "975\n",
      "321\n"
     ]
    }
   ],
   "source": [
    "#!/bin/python3\n",
    "\n",
    "import math\n",
    "import os\n",
    "import random\n",
    "import re\n",
    "import sys\n",
    "\n",
    "class SinglyLinkedListNode:\n",
    "    def __init__(self, node_data):\n",
    "        self.data = node_data\n",
    "        self.next = None\n",
    "\n",
    "class SinglyLinkedList:\n",
    "    def __init__(self):\n",
    "        self.head = None\n",
    "\n",
    "def print_singly_linked_list(node):\n",
    "    while node:\n",
    "        print(str(node.data))\n",
    "        node = node.next\n",
    "\n",
    "def insertNodeAtTail(head, data):\n",
    "    node = SinglyLinkedListNode(data)\n",
    "    if not head:\n",
    "        return node\n",
    "    current = head\n",
    "    while current.next:\n",
    "        current = current.next\n",
    "    current.next = node\n",
    "    return head  \n",
    "\n",
    "if __name__ == '__main__':\n",
    "    llist_count = 5\n",
    "    llist = SinglyLinkedList()\n",
    "\n",
    "    for llist_item in [383, 484, 392, 975, 321]:\n",
    "        llist_head = insertNodeAtTail(llist.head, llist_item)\n",
    "        llist.head = llist_head\n",
    "\n",
    "    print_singly_linked_list(llist.head)\n"
   ]
  },
  {
   "cell_type": "code",
   "execution_count": null,
   "id": "33fc1f84-d3ba-4b44-8098-a1873806686b",
   "metadata": {},
   "outputs": [],
   "source": []
  }
 ],
 "metadata": {
  "kernelspec": {
   "display_name": "Python 3 (ipykernel)",
   "language": "python",
   "name": "python3"
  },
  "language_info": {
   "codemirror_mode": {
    "name": "ipython",
    "version": 3
   },
   "file_extension": ".py",
   "mimetype": "text/x-python",
   "name": "python",
   "nbconvert_exporter": "python",
   "pygments_lexer": "ipython3",
   "version": "3.12.7"
  }
 },
 "nbformat": 4,
 "nbformat_minor": 5
}
